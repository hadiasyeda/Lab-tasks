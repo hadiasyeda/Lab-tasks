{
 "cells": [
  {
   "cell_type": "markdown",
   "id": "3bf9fa29-d130-4c06-afb1-2ccff5fa93e1",
   "metadata": {},
   "source": [
    "# TASK 1"
   ]
  },
  {
   "cell_type": "markdown",
   "id": "1e55a23a-c1a5-4111-b48c-73044dd53f10",
   "metadata": {},
   "source": [
    "# MIN MAX "
   ]
  },
  {
   "cell_type": "code",
   "execution_count": 3,
   "id": "54f0ec41-f573-4f64-81c5-b5369c78366c",
   "metadata": {},
   "outputs": [
    {
     "name": "stdout",
     "output_type": "stream",
     "text": [
      "The optimal value is: 12\n"
     ]
    }
   ],
   "source": [
    "\n",
    "\n",
    "def min_max(depth, node_index, is_maximizing_player, values, target_depth):\n",
    "   \n",
    "    if depth == target_depth:\n",
    "        return values[node_index]\n",
    "\n",
    "    if is_maximizing_player:\n",
    "        \n",
    "        return max(\n",
    "            min_max(depth + 1, node_index * 2, False, values, target_depth),\n",
    "            min_max(depth + 1, node_index * 2 + 1, False, values, target_depth)\n",
    "        )\n",
    "    else:\n",
    "        \n",
    "        return min(\n",
    "            min_max(depth + 1, node_index * 2, True, values, target_depth),\n",
    "            min_max(depth + 1, node_index * 2 + 1, True, values, target_depth)\n",
    "        )\n",
    "\n",
    "\n",
    "if __name__ == \"__main__\":\n",
    "    \n",
    "    values = [3, 5, 2, 9, 12, 5, 23, 23]\n",
    "\n",
    "    \n",
    "    target_depth = 3\n",
    "\n",
    "    best_value = min_max(0, 0, True, values, target_depth)\n",
    "    print(\"The optimal value is:\", best_value)\n"
   ]
  },
  {
   "cell_type": "code",
   "execution_count": null,
   "id": "d1eaf875-9ad2-4feb-8139-11963f9ce922",
   "metadata": {},
   "outputs": [],
   "source": []
  }
 ],
 "metadata": {
  "kernelspec": {
   "display_name": "Python 3 (ipykernel)",
   "language": "python",
   "name": "python3"
  },
  "language_info": {
   "codemirror_mode": {
    "name": "ipython",
    "version": 3
   },
   "file_extension": ".py",
   "mimetype": "text/x-python",
   "name": "python",
   "nbconvert_exporter": "python",
   "pygments_lexer": "ipython3",
   "version": "3.12.4"
  }
 },
 "nbformat": 4,
 "nbformat_minor": 5
}
