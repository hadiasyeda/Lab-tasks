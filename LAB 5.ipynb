{
 "cells": [
  {
   "cell_type": "markdown",
   "id": "c8e2bddb-08de-4d60-82fb-5fcc6fd958b2",
   "metadata": {},
   "source": [
    "TASK 1"
   ]
  },
  {
   "cell_type": "markdown",
   "id": "b34d5d96-312e-4d00-aff2-a86696fc2823",
   "metadata": {},
   "source": [
    "#DFS using Stack & Node"
   ]
  },
  {
   "cell_type": "code",
   "execution_count": 6,
   "id": "7853fd77-7de5-4885-a7a0-b52761251d33",
   "metadata": {},
   "outputs": [
    {
     "name": "stdout",
     "output_type": "stream",
     "text": [
      "A\n",
      "B\n",
      "D\n",
      "E\n",
      "C\n"
     ]
    }
   ],
   "source": [
    "class Node:\n",
    "    def __init__(self, value):\n",
    "        self.value = value\n",
    "        self.adjacent = []\n",
    "\n",
    "def dfs(start_node):\n",
    "    visited = set()\n",
    "    stack = [start_node]\n",
    "\n",
    "    while stack:\n",
    "        current = stack.pop()\n",
    "        if current not in visited:\n",
    "            print(current.value)\n",
    "            visited.add(current)\n",
    "            for neighbor in reversed(current.adjacent):\n",
    "                if neighbor not in visited:\n",
    "                    stack.append(neighbor)\n",
    "\n",
    "\n",
    "a = Node('A')\n",
    "b = Node('B')\n",
    "c = Node('C')\n",
    "d = Node('D')\n",
    "e = Node('E')\n",
    "\n",
    "a.adjacent = [b, c]\n",
    "b.adjacent = [d, e]\n",
    "\n",
    "dfs(a)\n"
   ]
  },
  {
   "cell_type": "markdown",
   "id": "3bdaf70e-0745-4cbd-9974-7d6489cb246a",
   "metadata": {},
   "source": [
    "# TASK 2"
   ]
  },
  {
   "cell_type": "markdown",
   "id": "8ecc6f89-6f0c-48b8-a962-a57a81b83297",
   "metadata": {},
   "source": [
    "Inorder, Preorder, Postorder Traversals (DFS)"
   ]
  },
  {
   "cell_type": "code",
   "execution_count": 12,
   "id": "bc5d3b37-686a-4d52-84ab-05c2f200d9a8",
   "metadata": {},
   "outputs": [
    {
     "name": "stdout",
     "output_type": "stream",
     "text": [
      "Inorder:\n",
      "D B E A C \n",
      "Preorder:\n",
      "A B D E C \n",
      "Postorder:\n",
      "D E B C A "
     ]
    }
   ],
   "source": [
    "class TreeNode:\n",
    "    def __init__(self, value):\n",
    "        self.value = value\n",
    "        self.left = None\n",
    "        self.right = None\n",
    "\n",
    "def inorder(node):\n",
    "    if node:\n",
    "        inorder(node.left)\n",
    "        print(node.value, end=' ')\n",
    "        inorder(node.right)\n",
    "\n",
    "def preorder(node):\n",
    "    if node:\n",
    "        print(node.value, end=' ')\n",
    "        preorder(node.left)\n",
    "        preorder(node.right)\n",
    "\n",
    "def postorder(node):\n",
    "    if node:\n",
    "        postorder(node.left)\n",
    "        postorder(node.right)\n",
    "        print(node.value, end=' ')\n",
    "\n",
    "# Example usage:\n",
    "root = TreeNode('A')\n",
    "root.left = TreeNode('B')\n",
    "root.right = TreeNode('C')\n",
    "root.left.left = TreeNode('D')\n",
    "root.left.right = TreeNode('E')\n",
    "\n",
    "print(\"Inorder:\")\n",
    "inorder(root)\n",
    "print(\"\\nPreorder:\")\n",
    "preorder(root)\n",
    "print(\"\\nPostorder:\")\n",
    "postorder(root)\n"
   ]
  },
  {
   "cell_type": "code",
   "execution_count": null,
   "id": "af8b6fb2-6c40-4111-aeed-0273c47a0a52",
   "metadata": {},
   "outputs": [],
   "source": []
  }
 ],
 "metadata": {
  "kernelspec": {
   "display_name": "Python 3 (ipykernel)",
   "language": "python",
   "name": "python3"
  },
  "language_info": {
   "codemirror_mode": {
    "name": "ipython",
    "version": 3
   },
   "file_extension": ".py",
   "mimetype": "text/x-python",
   "name": "python",
   "nbconvert_exporter": "python",
   "pygments_lexer": "ipython3",
   "version": "3.12.4"
  }
 },
 "nbformat": 4,
 "nbformat_minor": 5
}
