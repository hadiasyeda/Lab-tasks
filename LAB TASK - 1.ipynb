{
 "cells": [
  {
   "cell_type": "markdown",
   "id": "369e1008-eb6b-4995-9ff5-2b7f7e58f3a7",
   "metadata": {},
   "source": [
    "LAB TASK 1"
   ]
  },
  {
   "cell_type": "code",
   "execution_count": 3,
   "id": "045099ea-dab7-4268-a8a8-c88c6a75fbb7",
   "metadata": {},
   "outputs": [],
   "source": [
    "# Dynamic Calculator:\n",
    "\n"
   ]
  },
  {
   "cell_type": "code",
   "execution_count": 7,
   "id": "2ac04b4b-76b6-4deb-afca-3afd6ad492ed",
   "metadata": {},
   "outputs": [
    {
     "name": "stdout",
     "output_type": "stream",
     "text": [
      "Expression: 1+2*3(4-5/4)-(3/5)\n",
      "Result: 16.9\n"
     ]
    }
   ],
   "source": [
    "import re\n",
    "\n",
    "def add_implicit_multiplication(expression):\n",
    "    # Insert '*' where implicit multiplication is used like: 2(3+4) => 2*(3+4)\n",
    "    expression = re.sub(r'(\\d)(\\()', r'\\1*(', expression)\n",
    "    expression = re.sub(r'\\)(\\d)', r')*\\1', expression)\n",
    "    return expression\n",
    "\n",
    "def calculate(expression):\n",
    "    try:\n",
    "    \n",
    "        expression = expression.replace(' ', '')\n",
    "        expression = add_implicit_multiplication(expression)\n",
    "        \n",
    "        \n",
    "        result = eval(expression)\n",
    "        return result\n",
    "    except Exception as e:\n",
    "        return f\"Error: {str(e)}\"\n",
    "\n",
    "\n",
    "expr = \"1+2*3(4-5/4)-(3/5)\"\n",
    "result = calculate(expr)\n",
    "print(\"Expression:\", expr)\n",
    "print(\"Result:\", result)\n"
   ]
  },
  {
   "cell_type": "code",
   "execution_count": null,
   "id": "772a7b5f-bb57-4dd7-be9e-3bd9844045e9",
   "metadata": {},
   "outputs": [],
   "source": []
  }
 ],
 "metadata": {
  "kernelspec": {
   "display_name": "Python 3 (ipykernel)",
   "language": "python",
   "name": "python3"
  },
  "language_info": {
   "codemirror_mode": {
    "name": "ipython",
    "version": 3
   },
   "file_extension": ".py",
   "mimetype": "text/x-python",
   "name": "python",
   "nbconvert_exporter": "python",
   "pygments_lexer": "ipython3",
   "version": "3.12.4"
  }
 },
 "nbformat": 4,
 "nbformat_minor": 5
}
