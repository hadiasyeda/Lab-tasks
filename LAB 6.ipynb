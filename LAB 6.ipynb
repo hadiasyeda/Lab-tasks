{
 "cells": [
  {
   "cell_type": "markdown",
   "id": "20e3bc9b-4456-4225-ba8d-3d1d4deb6211",
   "metadata": {},
   "source": [
    "# TASK 1"
   ]
  },
  {
   "cell_type": "markdown",
   "id": "dc71db3d-dadf-4c1e-9dc6-42ca2c743506",
   "metadata": {},
   "source": [
    " BFS without Queue & without Node\n"
   ]
  },
  {
   "cell_type": "code",
   "execution_count": 3,
   "id": "b21b9202-2d72-4ef8-8c33-16d21d444a41",
   "metadata": {},
   "outputs": [
    {
     "name": "stdout",
     "output_type": "stream",
     "text": [
      "A\n",
      "B\n",
      "C\n",
      "D\n",
      "E\n",
      "F\n"
     ]
    }
   ],
   "source": [
    "#Using a simple adjacency list and visited list\n",
    "def bfs_without_queue(graph, start):\n",
    "    visited = []\n",
    "    to_visit = [start]\n",
    "\n",
    "    while to_visit:\n",
    "        current = to_visit[0]\n",
    "        to_visit = to_visit[1:]  \n",
    "\n",
    "        if current not in visited:\n",
    "            print(current)\n",
    "            visited.append(current)\n",
    "            to_visit.extend(graph[current])\n",
    "\n",
    "\n",
    "graph = {\n",
    "    'A': ['B', 'C'],\n",
    "    'B': ['D', 'E'],\n",
    "    'C': ['F'],\n",
    "    'D': [],\n",
    "    'E': [],\n",
    "    'F': []\n",
    "}\n",
    "\n",
    "bfs_without_queue(graph, 'A')\n"
   ]
  },
  {
   "cell_type": "markdown",
   "id": "3493becc-f33d-44b3-9562-8783300dad9d",
   "metadata": {},
   "source": [
    "# TASK 2"
   ]
  },
  {
   "cell_type": "markdown",
   "id": "6f05852c-e382-4077-ba0a-46859935705e",
   "metadata": {},
   "source": [
    " BFS with Queue & Node"
   ]
  },
  {
   "cell_type": "code",
   "execution_count": 7,
   "id": "13f92386-b231-4e1d-975a-9ce88f0c5496",
   "metadata": {},
   "outputs": [
    {
     "name": "stdout",
     "output_type": "stream",
     "text": [
      "A\n",
      "B\n",
      "C\n",
      "D\n",
      "E\n",
      "F\n"
     ]
    }
   ],
   "source": [
    "#Using a Node class and a real queue\n",
    "from collections import deque\n",
    "\n",
    "class Node:\n",
    "    def __init__(self, value):\n",
    "        self.value = value\n",
    "        self.adjacent = []\n",
    "\n",
    "def bfs_with_queue(start_node):\n",
    "    visited = set()\n",
    "    queue = deque([start_node])\n",
    "\n",
    "    while queue:\n",
    "        current = queue.popleft()\n",
    "        if current not in visited:\n",
    "            print(current.value)\n",
    "            visited.add(current)\n",
    "            for neighbor in current.adjacent:\n",
    "                if neighbor not in visited:\n",
    "                    queue.append(neighbor)\n",
    "\n",
    "# Example usage:\n",
    "a = Node('A')\n",
    "b = Node('B')\n",
    "c = Node('C')\n",
    "d = Node('D')\n",
    "e = Node('E')\n",
    "f = Node('F')\n",
    "\n",
    "a.adjacent = [b, c]\n",
    "b.adjacent = [d, e]\n",
    "c.adjacent = [f]\n",
    "\n",
    "bfs_with_queue(a)\n"
   ]
  },
  {
   "cell_type": "code",
   "execution_count": null,
   "id": "132ac79f-ec27-4b52-b9a3-3372a95d4608",
   "metadata": {},
   "outputs": [],
   "source": []
  }
 ],
 "metadata": {
  "kernelspec": {
   "display_name": "Python 3 (ipykernel)",
   "language": "python",
   "name": "python3"
  },
  "language_info": {
   "codemirror_mode": {
    "name": "ipython",
    "version": 3
   },
   "file_extension": ".py",
   "mimetype": "text/x-python",
   "name": "python",
   "nbconvert_exporter": "python",
   "pygments_lexer": "ipython3",
   "version": "3.12.4"
  }
 },
 "nbformat": 4,
 "nbformat_minor": 5
}
