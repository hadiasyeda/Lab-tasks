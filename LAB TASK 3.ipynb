{
 "cells": [
  {
   "cell_type": "markdown",
   "id": "046406a9-8ad2-4bb5-9ff3-3ef0b422cb35",
   "metadata": {},
   "source": [
    "LAB TASK 3"
   ]
  },
  {
   "cell_type": "code",
   "execution_count": 2,
   "id": "899095c7-d3dc-4262-adbe-ee71eeec36b1",
   "metadata": {},
   "outputs": [
    {
     "name": "stdout",
     "output_type": "stream",
     "text": [
      "Model-Based Reflex Agent Simulation:\n",
      "\n",
      "Temperature: 16°C → Temperature is low. Turning heater ON.\n",
      "Temperature: 17°C → Temperature is low. Heater is already ON. No action needed.\n",
      "Temperature: 20°C → Temperature is comfortable. No action needed.\n",
      "Temperature: 25°C → Temperature is high. Turning heater OFF.\n",
      "Temperature: 23°C → Temperature is comfortable. No action needed.\n",
      "Temperature: 17°C → Temperature is low. Turning heater ON.\n",
      "Temperature: 17°C → Temperature is low. Heater is already ON. No action needed.\n",
      "Temperature: 26°C → Temperature is high. Turning heater OFF.\n"
     ]
    }
   ],
   "source": [
    "class ModelBasedReflexAgent:\n",
    "    def __init__(self):\n",
    "        self.previous_action = \"OFF\"  # The heater starts off\n",
    "\n",
    "    def decide_action(self, temperature):\n",
    "        # Define thresholds\n",
    "        cold_threshold = 18\n",
    "        warm_threshold = 24\n",
    "\n",
    "        if temperature < cold_threshold:\n",
    "            if self.previous_action != \"ON\":\n",
    "                self.previous_action = \"ON\"\n",
    "                return \"Temperature is low. Turning heater ON.\"\n",
    "            else:\n",
    "                return \"Temperature is low. Heater is already ON. No action needed.\"\n",
    "\n",
    "        elif temperature > warm_threshold:\n",
    "            if self.previous_action != \"OFF\":\n",
    "                self.previous_action = \"OFF\"\n",
    "                return \"Temperature is high. Turning heater OFF.\"\n",
    "            else:\n",
    "                return \"Temperature is high. Heater is already OFF. No action needed.\"\n",
    "\n",
    "        else:\n",
    "            return \"Temperature is comfortable. No action needed.\"\n",
    "\n",
    "# -------------------------------\n",
    "# Sample run\n",
    "agent = ModelBasedReflexAgent()\n",
    "temperatures = [16, 17, 20, 25, 23, 17, 17, 26]  # Simulated temperature readings\n",
    "\n",
    "print(\"Model-Based Reflex Agent Simulation:\\n\")\n",
    "for t in temperatures:\n",
    "    result = agent.decide_action(t)\n",
    "    print(f\"Temperature: {t}°C → {result}\")\n"
   ]
  },
  {
   "cell_type": "code",
   "execution_count": null,
   "id": "0ddf6e2f-8d93-49e8-a52e-7a66e4fa2631",
   "metadata": {},
   "outputs": [],
   "source": []
  }
 ],
 "metadata": {
  "kernelspec": {
   "display_name": "Python 3 (ipykernel)",
   "language": "python",
   "name": "python3"
  },
  "language_info": {
   "codemirror_mode": {
    "name": "ipython",
    "version": 3
   },
   "file_extension": ".py",
   "mimetype": "text/x-python",
   "name": "python",
   "nbconvert_exporter": "python",
   "pygments_lexer": "ipython3",
   "version": "3.12.4"
  }
 },
 "nbformat": 4,
 "nbformat_minor": 5
}
