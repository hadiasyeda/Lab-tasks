{
 "cells": [
  {
   "cell_type": "markdown",
   "id": "f80fdec7-a080-45b8-9bf3-676bca044683",
   "metadata": {},
   "source": [
    "TASK 1"
   ]
  },
  {
   "cell_type": "markdown",
   "id": "722de45a-6a01-4eb6-a5ce-a39eb42b3af2",
   "metadata": {},
   "source": [
    "# Code for LUHN Algorithm"
   ]
  },
  {
   "cell_type": "code",
   "execution_count": 3,
   "id": "840182a1-48db-4a20-a9c6-291315e2173d",
   "metadata": {},
   "outputs": [
    {
     "name": "stdout",
     "output_type": "stream",
     "text": [
      "Invalid card number\n"
     ]
    }
   ],
   "source": [
    "def luhn_check(card_number):\n",
    "    \n",
    "    card_number = ''.join(filter(str.isdigit, card_number))\n",
    "    \n",
    "    \n",
    "    digits = [int(d) for d in card_number[::-1]]\n",
    "    \n",
    "    \n",
    "    for i in range(1, len(digits), 2):\n",
    "        digits[i] *= 2\n",
    "        # If doubling results in a number greater than 9, subtract 9\n",
    "        if digits[i] > 9:\n",
    "            digits[i] -= 9\n",
    "    \n",
    "    # Sum all the digits\n",
    "    total = sum(digits)\n",
    "    \n",
    "    # The card number is valid if the total modulo 10 is 0\n",
    "    return total % 10 == 0\n",
    "\n",
    "# Example usage\n",
    "card_number = \"4532 1488 0343 6467\"\n",
    "if luhn_check(card_number):\n",
    "    print(\"Valid card number\")\n",
    "else:\n",
    "    print(\"Invalid card number\")"
   ]
  },
  {
   "cell_type": "code",
   "execution_count": 5,
   "id": "3284cf22-a6dc-4cd0-9eee-77978ec6e087",
   "metadata": {},
   "outputs": [
    {
     "name": "stdin",
     "output_type": "stream",
     "text": [
      "Enter a card number:  9\n"
     ]
    },
    {
     "name": "stdout",
     "output_type": "stream",
     "text": [
      "Invalid card number.\n"
     ]
    }
   ],
   "source": [
    "def luhn_algorithm(card_number):\n",
    "    card_number = card_number.replace(' ', '')\n",
    "    total = 0\n",
    "    reverse_digits = card_number[::-1]\n",
    "\n",
    "    for i in range(len(reverse_digits)):\n",
    "        digit = int(reverse_digits[i])\n",
    "        if i % 2 == 1:  # double every second digit\n",
    "            digit *= 2\n",
    "            if digit > 9:\n",
    "                digit -= 9\n",
    "        total += digit\n",
    "\n",
    "    return total % 10 == 0\n",
    "\n",
    "\n",
    "card = input(\"Enter a card number: \")\n",
    "if luhn_algorithm(card):\n",
    "    print(\"Valid card number!\")\n",
    "else:\n",
    "    print(\"Invalid card number.\")\n"
   ]
  },
  {
   "cell_type": "markdown",
   "id": "b0d95c8c-d225-40f2-85b3-f55598f853ec",
   "metadata": {},
   "source": [
    "TASK 2"
   ]
  },
  {
   "cell_type": "markdown",
   "id": "b3391c67-486d-4d03-832e-748a9c9229a2",
   "metadata": {},
   "source": [
    "#Python program to remove punctuations from the given string"
   ]
  },
  {
   "cell_type": "code",
   "execution_count": 12,
   "id": "335cfe38-a0be-4739-8b61-ea1f50f4b01e",
   "metadata": {},
   "outputs": [
    {
     "name": "stderr",
     "output_type": "stream",
     "text": [
      "<>:2: SyntaxWarning: invalid escape sequence '\\,'\n",
      "<>:2: SyntaxWarning: invalid escape sequence '\\,'\n",
      "C:\\Users\\DELL\\AppData\\Local\\Temp\\ipykernel_10268\\900451479.py:2: SyntaxWarning: invalid escape sequence '\\,'\n",
      "  punctuations = '''!()-[]{};:'\"\\,<>./?@#$%^&*_~'''\n"
     ]
    },
    {
     "name": "stdin",
     "output_type": "stream",
     "text": [
      "Enter a sentence:  .KJUJ-NMIUH893`\\,MJ\n"
     ]
    },
    {
     "name": "stdout",
     "output_type": "stream",
     "text": [
      "Sentence without punctuations: KJUJNMIUH893`MJ\n"
     ]
    }
   ],
   "source": [
    "def remove_punctuations(input_string):\n",
    "    punctuations = '''!()-[]{};:'\"\\,<>./?@#$%^&*_~'''\n",
    "    output_string = \"\"\n",
    "\n",
    "    for char in input_string:\n",
    "        if char not in punctuations:\n",
    "            output_string += char\n",
    "    return output_string\n",
    "\n",
    "\n",
    "sentence = input(\"Enter a sentence: \")\n",
    "print(\"Sentence without punctuations:\", remove_punctuations(sentence))\n"
   ]
  },
  {
   "cell_type": "markdown",
   "id": "7457eb89-e9f0-4e95-aa08-494a54a3948b",
   "metadata": {},
   "source": [
    "TASK 3"
   ]
  },
  {
   "cell_type": "markdown",
   "id": "1e237083-766d-424d-b06d-0651d76d7a8e",
   "metadata": {},
   "source": [
    "#Python program to sort the sentence in alphabetical order"
   ]
  },
  {
   "cell_type": "code",
   "execution_count": 17,
   "id": "bab27919-28f5-4d56-a794-def04168e687",
   "metadata": {},
   "outputs": [
    {
     "name": "stdin",
     "output_type": "stream",
     "text": [
      "Enter a sentence:  HELLO HADIA HERE\n"
     ]
    },
    {
     "name": "stdout",
     "output_type": "stream",
     "text": [
      "Sorted sentence: HADIA HELLO HERE\n"
     ]
    }
   ],
   "source": [
    "def sort_sentence(sentence):\n",
    "    words = sentence.split()\n",
    "    words.sort()\n",
    "    sorted_sentence = ' '.join(words)\n",
    "    return sorted_sentence\n",
    "\n",
    "\n",
    "sentence = input(\"Enter a sentence: \")\n",
    "print(\"Sorted sentence:\", sort_sentence(sentence))\n"
   ]
  },
  {
   "cell_type": "code",
   "execution_count": null,
   "id": "4d1f9396-6b69-4d54-a945-7dae24e2a4dd",
   "metadata": {},
   "outputs": [],
   "source": []
  }
 ],
 "metadata": {
  "kernelspec": {
   "display_name": "Python 3 (ipykernel)",
   "language": "python",
   "name": "python3"
  },
  "language_info": {
   "codemirror_mode": {
    "name": "ipython",
    "version": 3
   },
   "file_extension": ".py",
   "mimetype": "text/x-python",
   "name": "python",
   "nbconvert_exporter": "python",
   "pygments_lexer": "ipython3",
   "version": "3.12.4"
  }
 },
 "nbformat": 4,
 "nbformat_minor": 5
}
