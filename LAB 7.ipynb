{
 "cells": [
  {
   "cell_type": "markdown",
   "id": "5ca7d92a-4d0b-4776-98d8-9be82bb4f475",
   "metadata": {},
   "source": [
    "# TASK 1"
   ]
  },
  {
   "cell_type": "markdown",
   "id": "81332c3d-e47d-4060-87c5-2d76289f0c7e",
   "metadata": {},
   "source": [
    "A* ALGORITHM:"
   ]
  },
  {
   "cell_type": "code",
   "execution_count": 7,
   "id": "f9ab4500-62e9-4f1f-a26e-cdd8d2654007",
   "metadata": {},
   "outputs": [
    {
     "name": "stdout",
     "output_type": "stream",
     "text": [
      "Path found: [(0, 0), (1, 0), (2, 0), (2, 1), (2, 2), (3, 2), (3, 3), (3, 4), (4, 4)]\n"
     ]
    }
   ],
   "source": [
    "import heapq\n",
    "\n",
    "class Node:\n",
    "    def __init__(self, position, parent=None):\n",
    "        self.position = position\n",
    "        self.parent = parent\n",
    "        self.g = 0  # start to current node\n",
    "        self.h = 0  # Heuristic cost to goal\n",
    "        self.f = 0  # Total \n",
    "\n",
    "    def __lt__(self, other):\n",
    "        return self.f < other.f\n",
    "\n",
    "def astar(grid, start, end):\n",
    "    open_list = []\n",
    "    closed_set = set()\n",
    "\n",
    "    start_node = Node(start)\n",
    "    end_node = Node(end)\n",
    "    \n",
    "    heapq.heappush(open_list, start_node)\n",
    "\n",
    "    while open_list:\n",
    "        current_node = heapq.heappop(open_list)\n",
    "        closed_set.add(current_node.position)\n",
    "\n",
    "        if current_node.position == end_node.position:\n",
    "            \n",
    "            path = []\n",
    "            while current_node:\n",
    "                path.append(current_node.position)\n",
    "                current_node = current_node.parent\n",
    "            return path[::-1]  # reversed path\n",
    "\n",
    "        \n",
    "        neighbors = [\n",
    "            (0, -1), (-1, 0), (0, 1), (1, 0)  # Up, Left, Down, Right\n",
    "        ]\n",
    "        for dx, dy in neighbors:\n",
    "            neighbor_pos = (current_node.position[0] + dx, current_node.position[1] + dy)\n",
    "\n",
    "            \n",
    "            if (0 <= neighbor_pos[0] < len(grid)) and (0 <= neighbor_pos[1] < len(grid[0])):\n",
    "                if grid[neighbor_pos[0]][neighbor_pos[1]] == 1:  \n",
    "                    continue\n",
    "                if neighbor_pos in closed_set:\n",
    "                    continue\n",
    "\n",
    "                neighbor_node = Node(neighbor_pos, current_node)\n",
    "                neighbor_node.g = current_node.g + 1\n",
    "                neighbor_node.h = abs(neighbor_pos[0] - end_node.position[0]) + abs(neighbor_pos[1] - end_node.position[1])\n",
    "                neighbor_node.f = neighbor_node.g + neighbor_node.h\n",
    "\n",
    "                \n",
    "                if add_to_open(open_list, neighbor_node):\n",
    "                    heapq.heappush(open_list, neighbor_node)\n",
    "\n",
    "    return None  \n",
    "\n",
    "def add_to_open(open_list, neighbor):\n",
    "    for node in open_list:\n",
    "        if neighbor.position == node.position and neighbor.g >= node.g:\n",
    "            return False\n",
    "    return True\n",
    "\n",
    "\n",
    "if __name__ == \"__main__\":\n",
    "    grid = [\n",
    "        [0, 0, 0, 0, 0],\n",
    "        [0, 1, 1, 1, 0],\n",
    "        [0, 0, 0, 1, 0],\n",
    "        [0, 1, 0, 0, 0],\n",
    "        [0, 0, 0, 1, 0]\n",
    "    ]\n",
    "\n",
    "    start = (0, 0)\n",
    "    end = (4, 4)\n",
    "\n",
    "    path = astar(grid, start, end)\n",
    "    if path:\n",
    "        print(\"Path found:\", path)\n",
    "    else:\n",
    "        print(\"No path found.\")\n"
   ]
  },
  {
   "cell_type": "code",
   "execution_count": null,
   "id": "41b5125a-deeb-4726-825a-5722ea76b020",
   "metadata": {},
   "outputs": [],
   "source": []
  }
 ],
 "metadata": {
  "kernelspec": {
   "display_name": "Python 3 (ipykernel)",
   "language": "python",
   "name": "python3"
  },
  "language_info": {
   "codemirror_mode": {
    "name": "ipython",
    "version": 3
   },
   "file_extension": ".py",
   "mimetype": "text/x-python",
   "name": "python",
   "nbconvert_exporter": "python",
   "pygments_lexer": "ipython3",
   "version": "3.12.4"
  }
 },
 "nbformat": 4,
 "nbformat_minor": 5
}
